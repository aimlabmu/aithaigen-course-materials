{
 "cells": [
  {
   "cell_type": "markdown",
   "id": "996c35d7-ab8d-46cd-928f-722c0ff568bb",
   "metadata": {
    "tags": []
   },
   "source": [
    "# Run This Cell to get the latest course materials (IMPORTANT-BACKUP YOUR CURRENT FILES FIRST)"
   ]
  },
  {
   "cell_type": "code",
   "execution_count": 7,
   "id": "dd48e94d-a88a-4f79-b4b8-e3b62352ea0c",
   "metadata": {},
   "outputs": [
    {
     "name": "stdout",
     "output_type": "stream",
     "text": [
      "Already up to date.\n"
     ]
    }
   ],
   "source": [
    "!git pull"
   ]
  },
  {
   "cell_type": "markdown",
   "id": "592b82c6-c4e3-4463-b371-c3ff07b84a09",
   "metadata": {},
   "source": [
    "# Open Dashboard\n",
    "- Run the cell below\n",
    "- Type E-Mail and Password\n",
    "- Click \"LOG IN\" button\n",
    "- Select Device"
   ]
  },
  {
   "cell_type": "code",
   "execution_count": 2,
   "id": "247296a2-a904-4e06-80f6-08faa8f8f270",
   "metadata": {
    "tags": []
   },
   "outputs": [
    {
     "data": {
      "application/vnd.jupyter.widget-view+json": {
       "model_id": "8f5b836862ef4464b272003519cfba92",
       "version_major": 2,
       "version_minor": 0
      },
      "text/plain": [
       "HWDashBoardWidget(devices=[('None', 'none')])"
      ]
     },
     "metadata": {},
     "output_type": "display_data"
    }
   ],
   "source": [
    "import aithaigen_hwdashboard\n",
    "dashboard = aithaigen_hwdashboard.HWDashBoardWidget()\n",
    "dashboard"
   ]
  },
  {
   "cell_type": "markdown",
   "id": "e2334157-e4f7-407a-8726-6a42dd6d257f",
   "metadata": {
    "tags": []
   },
   "source": [
    "# Save data to csv file"
   ]
  },
  {
   "cell_type": "code",
   "execution_count": 6,
   "id": "7c6259ec-8385-4f23-8362-5ad46c38a2e5",
   "metadata": {},
   "outputs": [],
   "source": [
    "import pandas as pd\n",
    "\n",
    "## For example, if you name the data as collection-1 to 4\n",
    "data1 = pd.DataFrame.from_dict(dashboard.data['collection-1'])\n",
    "data2 = pd.DataFrame.from_dict(dashboard.data['collection-2'])\n",
    "data3 = pd.DataFrame.from_dict(dashboard.data['collection-3'])\n",
    "data4 = pd.DataFrame.from_dict(dashboard.data['collection-4'])\n",
    "data = pd.concat([data1, data2, data3, data4])\n",
    "\n",
    "pd.DataFrame.from_dict(data).to_csv('farm.csv')"
   ]
  },
  {
   "cell_type": "code",
   "execution_count": 5,
   "id": "37b0c56d-e0a5-4ec6-a540-baf325d9fce7",
   "metadata": {},
   "outputs": [
    {
     "data": {
      "text/html": [
       "<div>\n",
       "<style scoped>\n",
       "    .dataframe tbody tr th:only-of-type {\n",
       "        vertical-align: middle;\n",
       "    }\n",
       "\n",
       "    .dataframe tbody tr th {\n",
       "        vertical-align: top;\n",
       "    }\n",
       "\n",
       "    .dataframe thead th {\n",
       "        text-align: right;\n",
       "    }\n",
       "</style>\n",
       "<table border=\"1\" class=\"dataframe\">\n",
       "  <thead>\n",
       "    <tr style=\"text-align: right;\">\n",
       "      <th></th>\n",
       "      <th>timeStamp</th>\n",
       "      <th>light</th>\n",
       "      <th>moisture</th>\n",
       "      <th>class</th>\n",
       "    </tr>\n",
       "  </thead>\n",
       "  <tbody>\n",
       "    <tr>\n",
       "      <th>0</th>\n",
       "      <td>1646111731665</td>\n",
       "      <td>0.635742</td>\n",
       "      <td>0.019531</td>\n",
       "      <td>class-1</td>\n",
       "    </tr>\n",
       "    <tr>\n",
       "      <th>1</th>\n",
       "      <td>1646111732665</td>\n",
       "      <td>0.632812</td>\n",
       "      <td>0.018555</td>\n",
       "      <td>class-1</td>\n",
       "    </tr>\n",
       "    <tr>\n",
       "      <th>2</th>\n",
       "      <td>1646111733665</td>\n",
       "      <td>0.636719</td>\n",
       "      <td>0.017578</td>\n",
       "      <td>class-1</td>\n",
       "    </tr>\n",
       "    <tr>\n",
       "      <th>3</th>\n",
       "      <td>1646111734665</td>\n",
       "      <td>0.638672</td>\n",
       "      <td>0.017578</td>\n",
       "      <td>class-1</td>\n",
       "    </tr>\n",
       "    <tr>\n",
       "      <th>4</th>\n",
       "      <td>1646111735665</td>\n",
       "      <td>0.645508</td>\n",
       "      <td>0.017578</td>\n",
       "      <td>class-1</td>\n",
       "    </tr>\n",
       "    <tr>\n",
       "      <th>5</th>\n",
       "      <td>1646111736666</td>\n",
       "      <td>0.650391</td>\n",
       "      <td>0.019531</td>\n",
       "      <td>class-1</td>\n",
       "    </tr>\n",
       "    <tr>\n",
       "      <th>0</th>\n",
       "      <td>1646111745665</td>\n",
       "      <td>0.548828</td>\n",
       "      <td>0.027344</td>\n",
       "      <td>class-2</td>\n",
       "    </tr>\n",
       "    <tr>\n",
       "      <th>1</th>\n",
       "      <td>1646111746665</td>\n",
       "      <td>0.543945</td>\n",
       "      <td>0.026367</td>\n",
       "      <td>class-2</td>\n",
       "    </tr>\n",
       "    <tr>\n",
       "      <th>2</th>\n",
       "      <td>1646111747665</td>\n",
       "      <td>0.541016</td>\n",
       "      <td>0.026367</td>\n",
       "      <td>class-2</td>\n",
       "    </tr>\n",
       "    <tr>\n",
       "      <th>3</th>\n",
       "      <td>1646111748665</td>\n",
       "      <td>0.536133</td>\n",
       "      <td>0.026367</td>\n",
       "      <td>class-2</td>\n",
       "    </tr>\n",
       "    <tr>\n",
       "      <th>4</th>\n",
       "      <td>1646111749671</td>\n",
       "      <td>0.540039</td>\n",
       "      <td>0.026367</td>\n",
       "      <td>class-2</td>\n",
       "    </tr>\n",
       "  </tbody>\n",
       "</table>\n",
       "</div>"
      ],
      "text/plain": [
       "       timeStamp     light  moisture    class\n",
       "0  1646111731665  0.635742  0.019531  class-1\n",
       "1  1646111732665  0.632812  0.018555  class-1\n",
       "2  1646111733665  0.636719  0.017578  class-1\n",
       "3  1646111734665  0.638672  0.017578  class-1\n",
       "4  1646111735665  0.645508  0.017578  class-1\n",
       "5  1646111736666  0.650391  0.019531  class-1\n",
       "0  1646111745665  0.548828  0.027344  class-2\n",
       "1  1646111746665  0.543945  0.026367  class-2\n",
       "2  1646111747665  0.541016  0.026367  class-2\n",
       "3  1646111748665  0.536133  0.026367  class-2\n",
       "4  1646111749671  0.540039  0.026367  class-2"
      ]
     },
     "execution_count": 5,
     "metadata": {},
     "output_type": "execute_result"
    }
   ],
   "source": [
    "data"
   ]
  },
  {
   "cell_type": "markdown",
   "id": "e328092d-0adf-43ce-94fd-252fb225a77d",
   "metadata": {},
   "source": [
    "# Import Libraries"
   ]
  },
  {
   "cell_type": "code",
   "execution_count": 62,
   "id": "0292c64e-9ca6-480f-943e-9201596bd95b",
   "metadata": {},
   "outputs": [],
   "source": [
    "import numpy as np\n",
    "import pandas as pd\n",
    "from sklearn.model_selection import train_test_split\n",
    "from sklearn.metrics import multilabel_confusion_matrix, accuracy_score        # Accuracy metrics\n",
    "\n",
    "\n",
    "from tensorflow.keras.models import Sequential\n",
    "from tensorflow.keras.layers import Dense\n",
    "from tensorflow.keras.utils import to_categorical"
   ]
  },
  {
   "cell_type": "markdown",
   "id": "e26a0115-02e6-47aa-800b-ea455421b317",
   "metadata": {},
   "source": [
    "# Prepare Input Data"
   ]
  },
  {
   "cell_type": "code",
   "execution_count": 63,
   "id": "3705a242-8dc4-42d1-a88f-39ff7aefafb9",
   "metadata": {
    "tags": []
   },
   "outputs": [],
   "source": [
    "data = pd.read_csv(\"farm.csv\").drop([\"timeStamp\", \"Unnamed: 0\"], axis=1)  # read csv file\n",
    "\n",
    "X = data.drop('class', axis=1) # collect only input data\n",
    "\n",
    "y_num, conditions = pd.factorize(data['class'], sort=True) # Change classes to numerical data\n",
    "\n",
    "y = to_categorical(y_num).astype(int) # one of N representation\n",
    "\n",
    "X_train, X_test, y_train, y_test = train_test_split(X, y, test_size=0.3, random_state=1234) # Split data into train and test"
   ]
  },
  {
   "cell_type": "code",
   "execution_count": 1,
   "id": "abd640f8-2d49-4fe4-a700-840a478fa8a7",
   "metadata": {
    "tags": []
   },
   "outputs": [
    {
     "ename": "NameError",
     "evalue": "name 'data' is not defined",
     "output_type": "error",
     "traceback": [
      "\u001b[0;31m---------------------------------------------------------------------------\u001b[0m",
      "\u001b[0;31mNameError\u001b[0m                                 Traceback (most recent call last)",
      "Input \u001b[0;32mIn [1]\u001b[0m, in \u001b[0;36m<module>\u001b[0;34m\u001b[0m\n\u001b[0;32m----> 1\u001b[0m \u001b[43mdata\u001b[49m\n",
      "\u001b[0;31mNameError\u001b[0m: name 'data' is not defined"
     ]
    }
   ],
   "source": [
    "X_train"
   ]
  },
  {
   "cell_type": "markdown",
   "id": "b72159b2-4df5-4607-ad22-6b8e94079f24",
   "metadata": {},
   "source": [
    "# Train Model\n",
    "<img src=\"NN2.jpg\"/>"
   ]
  },
  {
   "cell_type": "code",
   "execution_count": 29,
   "id": "36be1b6d-e97d-41c0-8302-73c6cca4ab22",
   "metadata": {
    "collapsed": true,
    "jupyter": {
     "outputs_hidden": true
    },
    "tags": []
   },
   "outputs": [
    {
     "name": "stdout",
     "output_type": "stream",
     "text": [
      "Epoch 1/200\n",
      "2/2 [==============================] - 0s 2ms/step - loss: 1.1095 - categorical_accuracy: 0.2857\n",
      "Epoch 2/200\n",
      "2/2 [==============================] - 0s 2ms/step - loss: 1.1071 - categorical_accuracy: 0.2857\n",
      "Epoch 3/200\n",
      "2/2 [==============================] - 0s 2ms/step - loss: 1.1037 - categorical_accuracy: 0.2857\n",
      "Epoch 4/200\n",
      "2/2 [==============================] - 0s 1ms/step - loss: 1.1014 - categorical_accuracy: 0.2857\n",
      "Epoch 5/200\n",
      "2/2 [==============================] - 0s 1ms/step - loss: 1.0991 - categorical_accuracy: 0.2857\n",
      "Epoch 6/200\n",
      "2/2 [==============================] - 0s 2ms/step - loss: 1.0965 - categorical_accuracy: 0.2857\n",
      "Epoch 7/200\n",
      "2/2 [==============================] - 0s 2ms/step - loss: 1.0939 - categorical_accuracy: 0.2857\n",
      "Epoch 8/200\n",
      "2/2 [==============================] - 0s 2ms/step - loss: 1.0917 - categorical_accuracy: 0.2857\n",
      "Epoch 9/200\n",
      "2/2 [==============================] - 0s 2ms/step - loss: 1.0899 - categorical_accuracy: 0.2857\n",
      "Epoch 10/200\n",
      "2/2 [==============================] - 0s 1ms/step - loss: 1.0873 - categorical_accuracy: 0.2857\n",
      "Epoch 11/200\n",
      "2/2 [==============================] - 0s 1ms/step - loss: 1.0851 - categorical_accuracy: 0.2857\n",
      "Epoch 12/200\n",
      "2/2 [==============================] - 0s 1ms/step - loss: 1.0828 - categorical_accuracy: 0.2857\n",
      "Epoch 13/200\n",
      "2/2 [==============================] - 0s 2ms/step - loss: 1.0805 - categorical_accuracy: 0.2857\n",
      "Epoch 14/200\n",
      "2/2 [==============================] - 0s 1ms/step - loss: 1.0784 - categorical_accuracy: 0.2857\n",
      "Epoch 15/200\n",
      "2/2 [==============================] - 0s 1ms/step - loss: 1.0760 - categorical_accuracy: 0.2857\n",
      "Epoch 16/200\n",
      "2/2 [==============================] - 0s 1ms/step - loss: 1.0740 - categorical_accuracy: 0.2857\n",
      "Epoch 17/200\n",
      "2/2 [==============================] - 0s 2ms/step - loss: 1.0718 - categorical_accuracy: 0.2857\n",
      "Epoch 18/200\n",
      "2/2 [==============================] - 0s 1ms/step - loss: 1.0700 - categorical_accuracy: 0.2381\n",
      "Epoch 19/200\n",
      "2/2 [==============================] - 0s 1ms/step - loss: 1.0675 - categorical_accuracy: 0.2222\n",
      "Epoch 20/200\n",
      "2/2 [==============================] - 0s 1ms/step - loss: 1.0654 - categorical_accuracy: 0.2222\n",
      "Epoch 21/200\n",
      "2/2 [==============================] - 0s 2ms/step - loss: 1.0634 - categorical_accuracy: 0.2222\n",
      "Epoch 22/200\n",
      "2/2 [==============================] - 0s 1ms/step - loss: 1.0611 - categorical_accuracy: 0.2222\n",
      "Epoch 23/200\n",
      "2/2 [==============================] - 0s 1ms/step - loss: 1.0592 - categorical_accuracy: 0.2222\n",
      "Epoch 24/200\n",
      "2/2 [==============================] - 0s 1ms/step - loss: 1.0570 - categorical_accuracy: 0.2222\n",
      "Epoch 25/200\n",
      "2/2 [==============================] - 0s 2ms/step - loss: 1.0548 - categorical_accuracy: 0.2222\n",
      "Epoch 26/200\n",
      "2/2 [==============================] - 0s 1ms/step - loss: 1.0528 - categorical_accuracy: 0.2222\n",
      "Epoch 27/200\n",
      "2/2 [==============================] - 0s 1ms/step - loss: 1.0506 - categorical_accuracy: 0.2222\n",
      "Epoch 28/200\n",
      "2/2 [==============================] - 0s 1ms/step - loss: 1.0483 - categorical_accuracy: 0.2222\n",
      "Epoch 29/200\n",
      "2/2 [==============================] - 0s 2ms/step - loss: 1.0462 - categorical_accuracy: 0.2222\n",
      "Epoch 30/200\n",
      "2/2 [==============================] - 0s 1ms/step - loss: 1.0441 - categorical_accuracy: 0.2222\n",
      "Epoch 31/200\n",
      "2/2 [==============================] - 0s 2ms/step - loss: 1.0418 - categorical_accuracy: 0.2222\n",
      "Epoch 32/200\n",
      "2/2 [==============================] - 0s 2ms/step - loss: 1.0397 - categorical_accuracy: 0.2222\n",
      "Epoch 33/200\n",
      "2/2 [==============================] - 0s 2ms/step - loss: 1.0369 - categorical_accuracy: 0.4127\n",
      "Epoch 34/200\n",
      "2/2 [==============================] - 0s 2ms/step - loss: 1.0338 - categorical_accuracy: 0.4921\n",
      "Epoch 35/200\n",
      "2/2 [==============================] - 0s 1ms/step - loss: 1.0298 - categorical_accuracy: 0.5556\n",
      "Epoch 36/200\n",
      "2/2 [==============================] - 0s 2ms/step - loss: 1.0254 - categorical_accuracy: 0.5873\n",
      "Epoch 37/200\n",
      "2/2 [==============================] - 0s 2ms/step - loss: 1.0207 - categorical_accuracy: 0.6190\n",
      "Epoch 38/200\n",
      "2/2 [==============================] - 0s 2ms/step - loss: 1.0164 - categorical_accuracy: 0.6190\n",
      "Epoch 39/200\n",
      "2/2 [==============================] - 0s 2ms/step - loss: 1.0117 - categorical_accuracy: 0.6190\n",
      "Epoch 40/200\n",
      "2/2 [==============================] - 0s 1ms/step - loss: 1.0083 - categorical_accuracy: 0.6190\n",
      "Epoch 41/200\n",
      "2/2 [==============================] - 0s 1ms/step - loss: 1.0058 - categorical_accuracy: 0.6190\n",
      "Epoch 42/200\n",
      "2/2 [==============================] - 0s 1ms/step - loss: 1.0034 - categorical_accuracy: 0.6190\n",
      "Epoch 43/200\n",
      "2/2 [==============================] - 0s 2ms/step - loss: 1.0005 - categorical_accuracy: 0.6190\n",
      "Epoch 44/200\n",
      "2/2 [==============================] - 0s 2ms/step - loss: 0.9981 - categorical_accuracy: 0.6190\n",
      "Epoch 45/200\n",
      "2/2 [==============================] - 0s 1ms/step - loss: 0.9952 - categorical_accuracy: 0.6190\n",
      "Epoch 46/200\n",
      "2/2 [==============================] - 0s 2ms/step - loss: 0.9924 - categorical_accuracy: 0.6190\n",
      "Epoch 47/200\n",
      "2/2 [==============================] - 0s 1ms/step - loss: 0.9898 - categorical_accuracy: 0.6190\n",
      "Epoch 48/200\n",
      "2/2 [==============================] - 0s 1ms/step - loss: 0.9871 - categorical_accuracy: 0.6190\n",
      "Epoch 49/200\n",
      "2/2 [==============================] - 0s 1ms/step - loss: 0.9844 - categorical_accuracy: 0.6190\n",
      "Epoch 50/200\n",
      "2/2 [==============================] - 0s 2ms/step - loss: 0.9817 - categorical_accuracy: 0.6190\n",
      "Epoch 51/200\n",
      "2/2 [==============================] - 0s 2ms/step - loss: 0.9791 - categorical_accuracy: 0.6349\n",
      "Epoch 52/200\n",
      "2/2 [==============================] - 0s 2ms/step - loss: 0.9764 - categorical_accuracy: 0.6825\n",
      "Epoch 53/200\n",
      "2/2 [==============================] - 0s 2ms/step - loss: 0.9736 - categorical_accuracy: 0.6825\n",
      "Epoch 54/200\n",
      "2/2 [==============================] - 0s 2ms/step - loss: 0.9709 - categorical_accuracy: 0.6825\n",
      "Epoch 55/200\n",
      "2/2 [==============================] - 0s 2ms/step - loss: 0.9681 - categorical_accuracy: 0.6825\n",
      "Epoch 56/200\n",
      "2/2 [==============================] - 0s 2ms/step - loss: 0.9653 - categorical_accuracy: 0.6825\n",
      "Epoch 57/200\n",
      "2/2 [==============================] - 0s 2ms/step - loss: 0.9626 - categorical_accuracy: 0.6825\n",
      "Epoch 58/200\n",
      "2/2 [==============================] - 0s 1ms/step - loss: 0.9596 - categorical_accuracy: 0.6825\n",
      "Epoch 59/200\n",
      "2/2 [==============================] - 0s 2ms/step - loss: 0.9568 - categorical_accuracy: 0.6825\n",
      "Epoch 60/200\n",
      "2/2 [==============================] - 0s 1ms/step - loss: 0.9539 - categorical_accuracy: 0.6825\n",
      "Epoch 61/200\n",
      "2/2 [==============================] - 0s 1ms/step - loss: 0.9511 - categorical_accuracy: 0.6825\n",
      "Epoch 62/200\n",
      "2/2 [==============================] - 0s 1ms/step - loss: 0.9482 - categorical_accuracy: 0.6825\n",
      "Epoch 63/200\n",
      "2/2 [==============================] - 0s 1ms/step - loss: 0.9452 - categorical_accuracy: 0.6825\n",
      "Epoch 64/200\n",
      "2/2 [==============================] - 0s 1ms/step - loss: 0.9423 - categorical_accuracy: 0.6825\n",
      "Epoch 65/200\n",
      "2/2 [==============================] - 0s 1ms/step - loss: 0.9393 - categorical_accuracy: 0.6825\n",
      "Epoch 66/200\n",
      "2/2 [==============================] - 0s 1ms/step - loss: 0.9364 - categorical_accuracy: 0.6825\n",
      "Epoch 67/200\n",
      "2/2 [==============================] - 0s 2ms/step - loss: 0.9333 - categorical_accuracy: 0.6825\n",
      "Epoch 68/200\n",
      "2/2 [==============================] - 0s 1ms/step - loss: 0.9304 - categorical_accuracy: 0.6825\n",
      "Epoch 69/200\n",
      "2/2 [==============================] - 0s 1ms/step - loss: 0.9275 - categorical_accuracy: 0.6825\n",
      "Epoch 70/200\n",
      "2/2 [==============================] - 0s 1ms/step - loss: 0.9242 - categorical_accuracy: 0.6825\n",
      "Epoch 71/200\n",
      "2/2 [==============================] - 0s 1ms/step - loss: 0.9211 - categorical_accuracy: 0.6825\n",
      "Epoch 72/200\n",
      "2/2 [==============================] - 0s 1ms/step - loss: 0.9180 - categorical_accuracy: 0.6825\n",
      "Epoch 73/200\n",
      "2/2 [==============================] - 0s 1ms/step - loss: 0.9151 - categorical_accuracy: 0.6825\n",
      "Epoch 74/200\n",
      "2/2 [==============================] - 0s 2ms/step - loss: 0.9119 - categorical_accuracy: 0.6825\n",
      "Epoch 75/200\n",
      "2/2 [==============================] - 0s 2ms/step - loss: 0.9089 - categorical_accuracy: 0.6825\n",
      "Epoch 76/200\n",
      "2/2 [==============================] - 0s 1ms/step - loss: 0.9059 - categorical_accuracy: 0.6825\n",
      "Epoch 77/200\n",
      "2/2 [==============================] - 0s 1ms/step - loss: 0.9028 - categorical_accuracy: 0.6825\n",
      "Epoch 78/200\n",
      "2/2 [==============================] - 0s 1ms/step - loss: 0.8997 - categorical_accuracy: 0.6825\n",
      "Epoch 79/200\n",
      "2/2 [==============================] - 0s 1ms/step - loss: 0.8966 - categorical_accuracy: 0.6825\n",
      "Epoch 80/200\n",
      "2/2 [==============================] - 0s 1ms/step - loss: 0.8935 - categorical_accuracy: 0.6825\n",
      "Epoch 81/200\n",
      "2/2 [==============================] - 0s 1ms/step - loss: 0.8903 - categorical_accuracy: 0.6825\n",
      "Epoch 82/200\n",
      "2/2 [==============================] - 0s 1ms/step - loss: 0.8873 - categorical_accuracy: 0.6825\n",
      "Epoch 83/200\n",
      "2/2 [==============================] - 0s 1ms/step - loss: 0.8841 - categorical_accuracy: 0.6825\n",
      "Epoch 84/200\n",
      "2/2 [==============================] - 0s 1ms/step - loss: 0.8810 - categorical_accuracy: 0.6825\n",
      "Epoch 85/200\n",
      "2/2 [==============================] - 0s 2ms/step - loss: 0.8780 - categorical_accuracy: 0.6825\n",
      "Epoch 86/200\n",
      "2/2 [==============================] - 0s 1ms/step - loss: 0.8747 - categorical_accuracy: 0.6825\n",
      "Epoch 87/200\n",
      "2/2 [==============================] - 0s 1ms/step - loss: 0.8715 - categorical_accuracy: 0.6825\n",
      "Epoch 88/200\n",
      "2/2 [==============================] - 0s 2ms/step - loss: 0.8683 - categorical_accuracy: 0.6825\n",
      "Epoch 89/200\n",
      "2/2 [==============================] - 0s 1ms/step - loss: 0.8651 - categorical_accuracy: 0.6825\n",
      "Epoch 90/200\n",
      "2/2 [==============================] - 0s 1ms/step - loss: 0.8620 - categorical_accuracy: 0.6825\n",
      "Epoch 91/200\n",
      "2/2 [==============================] - 0s 2ms/step - loss: 0.8588 - categorical_accuracy: 0.6825\n",
      "Epoch 92/200\n",
      "2/2 [==============================] - 0s 1ms/step - loss: 0.8557 - categorical_accuracy: 0.6825\n",
      "Epoch 93/200\n",
      "2/2 [==============================] - 0s 2ms/step - loss: 0.8526 - categorical_accuracy: 0.6825\n",
      "Epoch 94/200\n",
      "2/2 [==============================] - 0s 2ms/step - loss: 0.8495 - categorical_accuracy: 0.6825\n",
      "Epoch 95/200\n",
      "2/2 [==============================] - 0s 1ms/step - loss: 0.8463 - categorical_accuracy: 0.6825\n",
      "Epoch 96/200\n",
      "2/2 [==============================] - 0s 2ms/step - loss: 0.8431 - categorical_accuracy: 0.6825\n",
      "Epoch 97/200\n",
      "2/2 [==============================] - 0s 2ms/step - loss: 0.8400 - categorical_accuracy: 0.6825\n",
      "Epoch 98/200\n",
      "2/2 [==============================] - 0s 2ms/step - loss: 0.8368 - categorical_accuracy: 0.6825\n",
      "Epoch 99/200\n",
      "2/2 [==============================] - 0s 2ms/step - loss: 0.8336 - categorical_accuracy: 0.6825\n",
      "Epoch 100/200\n",
      "2/2 [==============================] - 0s 2ms/step - loss: 0.8305 - categorical_accuracy: 0.6825\n",
      "Epoch 101/200\n",
      "2/2 [==============================] - 0s 2ms/step - loss: 0.8274 - categorical_accuracy: 0.6825\n",
      "Epoch 102/200\n",
      "2/2 [==============================] - 0s 2ms/step - loss: 0.8241 - categorical_accuracy: 0.6825\n",
      "Epoch 103/200\n",
      "2/2 [==============================] - 0s 2ms/step - loss: 0.8209 - categorical_accuracy: 0.6825\n",
      "Epoch 104/200\n",
      "2/2 [==============================] - 0s 1ms/step - loss: 0.8178 - categorical_accuracy: 0.6825\n",
      "Epoch 105/200\n",
      "2/2 [==============================] - 0s 2ms/step - loss: 0.8146 - categorical_accuracy: 0.6825\n",
      "Epoch 106/200\n",
      "2/2 [==============================] - 0s 1ms/step - loss: 0.8113 - categorical_accuracy: 0.6825\n",
      "Epoch 107/200\n",
      "2/2 [==============================] - 0s 1ms/step - loss: 0.8081 - categorical_accuracy: 0.6825\n",
      "Epoch 108/200\n",
      "2/2 [==============================] - 0s 2ms/step - loss: 0.8050 - categorical_accuracy: 0.6825\n",
      "Epoch 109/200\n",
      "2/2 [==============================] - 0s 2ms/step - loss: 0.8019 - categorical_accuracy: 0.6825\n",
      "Epoch 110/200\n",
      "2/2 [==============================] - 0s 2ms/step - loss: 0.7985 - categorical_accuracy: 0.6825\n",
      "Epoch 111/200\n",
      "2/2 [==============================] - 0s 2ms/step - loss: 0.7954 - categorical_accuracy: 0.6825\n",
      "Epoch 112/200\n",
      "2/2 [==============================] - 0s 2ms/step - loss: 0.7922 - categorical_accuracy: 0.6825\n",
      "Epoch 113/200\n",
      "2/2 [==============================] - 0s 2ms/step - loss: 0.7889 - categorical_accuracy: 0.6825\n",
      "Epoch 114/200\n",
      "2/2 [==============================] - 0s 2ms/step - loss: 0.7858 - categorical_accuracy: 0.6825\n",
      "Epoch 115/200\n",
      "2/2 [==============================] - 0s 2ms/step - loss: 0.7825 - categorical_accuracy: 0.6825\n",
      "Epoch 116/200\n",
      "2/2 [==============================] - 0s 2ms/step - loss: 0.7793 - categorical_accuracy: 0.6825\n",
      "Epoch 117/200\n",
      "2/2 [==============================] - 0s 2ms/step - loss: 0.7760 - categorical_accuracy: 0.6825\n",
      "Epoch 118/200\n",
      "2/2 [==============================] - 0s 1ms/step - loss: 0.7729 - categorical_accuracy: 0.6825\n",
      "Epoch 119/200\n",
      "2/2 [==============================] - 0s 1ms/step - loss: 0.7696 - categorical_accuracy: 0.6825\n",
      "Epoch 120/200\n",
      "2/2 [==============================] - 0s 2ms/step - loss: 0.7663 - categorical_accuracy: 0.6825\n",
      "Epoch 121/200\n",
      "2/2 [==============================] - 0s 1ms/step - loss: 0.7631 - categorical_accuracy: 0.6825\n",
      "Epoch 122/200\n",
      "2/2 [==============================] - 0s 2ms/step - loss: 0.7599 - categorical_accuracy: 0.6825\n",
      "Epoch 123/200\n",
      "2/2 [==============================] - 0s 2ms/step - loss: 0.7566 - categorical_accuracy: 0.6825\n",
      "Epoch 124/200\n",
      "2/2 [==============================] - 0s 2ms/step - loss: 0.7533 - categorical_accuracy: 0.6825\n",
      "Epoch 125/200\n",
      "2/2 [==============================] - 0s 2ms/step - loss: 0.7501 - categorical_accuracy: 0.6825\n",
      "Epoch 126/200\n",
      "2/2 [==============================] - 0s 2ms/step - loss: 0.7468 - categorical_accuracy: 0.6825\n",
      "Epoch 127/200\n",
      "2/2 [==============================] - 0s 2ms/step - loss: 0.7437 - categorical_accuracy: 0.6825\n",
      "Epoch 128/200\n",
      "2/2 [==============================] - 0s 2ms/step - loss: 0.7403 - categorical_accuracy: 0.6825\n",
      "Epoch 129/200\n",
      "2/2 [==============================] - 0s 2ms/step - loss: 0.7370 - categorical_accuracy: 0.6825\n",
      "Epoch 130/200\n",
      "2/2 [==============================] - 0s 2ms/step - loss: 0.7337 - categorical_accuracy: 0.6825\n",
      "Epoch 131/200\n",
      "2/2 [==============================] - 0s 1ms/step - loss: 0.7304 - categorical_accuracy: 0.6825\n",
      "Epoch 132/200\n",
      "2/2 [==============================] - 0s 2ms/step - loss: 0.7272 - categorical_accuracy: 0.6825\n",
      "Epoch 133/200\n",
      "2/2 [==============================] - 0s 2ms/step - loss: 0.7239 - categorical_accuracy: 0.6825\n",
      "Epoch 134/200\n",
      "2/2 [==============================] - 0s 1ms/step - loss: 0.7206 - categorical_accuracy: 0.6825\n",
      "Epoch 135/200\n",
      "2/2 [==============================] - 0s 2ms/step - loss: 0.7173 - categorical_accuracy: 0.6825\n",
      "Epoch 136/200\n",
      "2/2 [==============================] - 0s 2ms/step - loss: 0.7140 - categorical_accuracy: 0.6825\n",
      "Epoch 137/200\n",
      "2/2 [==============================] - 0s 2ms/step - loss: 0.7107 - categorical_accuracy: 0.6825\n",
      "Epoch 138/200\n",
      "2/2 [==============================] - 0s 1ms/step - loss: 0.7074 - categorical_accuracy: 0.6825\n",
      "Epoch 139/200\n",
      "2/2 [==============================] - 0s 1ms/step - loss: 0.7041 - categorical_accuracy: 0.6825\n",
      "Epoch 140/200\n",
      "2/2 [==============================] - 0s 2ms/step - loss: 0.7007 - categorical_accuracy: 0.6825\n",
      "Epoch 141/200\n",
      "2/2 [==============================] - 0s 2ms/step - loss: 0.6974 - categorical_accuracy: 0.6825\n",
      "Epoch 142/200\n",
      "2/2 [==============================] - 0s 1ms/step - loss: 0.6941 - categorical_accuracy: 0.6825\n",
      "Epoch 143/200\n",
      "2/2 [==============================] - 0s 2ms/step - loss: 0.6907 - categorical_accuracy: 0.6825\n",
      "Epoch 144/200\n",
      "2/2 [==============================] - 0s 1ms/step - loss: 0.6875 - categorical_accuracy: 0.6825\n",
      "Epoch 145/200\n",
      "2/2 [==============================] - 0s 1ms/step - loss: 0.6842 - categorical_accuracy: 0.6825\n",
      "Epoch 146/200\n",
      "2/2 [==============================] - 0s 2ms/step - loss: 0.6808 - categorical_accuracy: 0.6825\n",
      "Epoch 147/200\n",
      "2/2 [==============================] - 0s 2ms/step - loss: 0.6775 - categorical_accuracy: 0.6825\n",
      "Epoch 148/200\n",
      "2/2 [==============================] - 0s 2ms/step - loss: 0.6743 - categorical_accuracy: 0.6825\n",
      "Epoch 149/200\n",
      "2/2 [==============================] - 0s 1ms/step - loss: 0.6711 - categorical_accuracy: 0.6984\n",
      "Epoch 150/200\n",
      "2/2 [==============================] - 0s 1ms/step - loss: 0.6679 - categorical_accuracy: 0.7619\n",
      "Epoch 151/200\n",
      "2/2 [==============================] - 0s 2ms/step - loss: 0.6646 - categorical_accuracy: 0.7778\n",
      "Epoch 152/200\n",
      "2/2 [==============================] - 0s 2ms/step - loss: 0.6614 - categorical_accuracy: 0.7778\n",
      "Epoch 153/200\n",
      "2/2 [==============================] - 0s 1ms/step - loss: 0.6582 - categorical_accuracy: 0.7937\n",
      "Epoch 154/200\n",
      "2/2 [==============================] - 0s 1ms/step - loss: 0.6550 - categorical_accuracy: 0.8095\n",
      "Epoch 155/200\n",
      "2/2 [==============================] - 0s 1ms/step - loss: 0.6517 - categorical_accuracy: 0.8413\n",
      "Epoch 156/200\n",
      "2/2 [==============================] - 0s 2ms/step - loss: 0.6485 - categorical_accuracy: 0.8413\n",
      "Epoch 157/200\n",
      "2/2 [==============================] - 0s 1ms/step - loss: 0.6454 - categorical_accuracy: 0.8413\n",
      "Epoch 158/200\n",
      "2/2 [==============================] - 0s 1ms/step - loss: 0.6421 - categorical_accuracy: 0.8413\n",
      "Epoch 159/200\n",
      "2/2 [==============================] - 0s 2ms/step - loss: 0.6389 - categorical_accuracy: 0.8413\n",
      "Epoch 160/200\n",
      "2/2 [==============================] - 0s 2ms/step - loss: 0.6358 - categorical_accuracy: 0.8413\n",
      "Epoch 161/200\n",
      "2/2 [==============================] - 0s 2ms/step - loss: 0.6326 - categorical_accuracy: 0.8889\n",
      "Epoch 162/200\n",
      "2/2 [==============================] - 0s 1ms/step - loss: 0.6294 - categorical_accuracy: 0.9206\n",
      "Epoch 163/200\n",
      "2/2 [==============================] - 0s 1ms/step - loss: 0.6263 - categorical_accuracy: 0.9524\n",
      "Epoch 164/200\n",
      "2/2 [==============================] - 0s 2ms/step - loss: 0.6231 - categorical_accuracy: 0.9841\n",
      "Epoch 165/200\n",
      "2/2 [==============================] - 0s 1ms/step - loss: 0.6200 - categorical_accuracy: 1.0000\n",
      "Epoch 166/200\n",
      "2/2 [==============================] - 0s 2ms/step - loss: 0.6168 - categorical_accuracy: 1.0000\n",
      "Epoch 167/200\n",
      "2/2 [==============================] - 0s 1ms/step - loss: 0.6137 - categorical_accuracy: 1.0000\n",
      "Epoch 168/200\n",
      "2/2 [==============================] - 0s 1ms/step - loss: 0.6106 - categorical_accuracy: 1.0000\n",
      "Epoch 169/200\n",
      "2/2 [==============================] - 0s 2ms/step - loss: 0.6075 - categorical_accuracy: 1.0000\n",
      "Epoch 170/200\n",
      "2/2 [==============================] - 0s 1ms/step - loss: 0.6044 - categorical_accuracy: 1.0000\n",
      "Epoch 171/200\n",
      "2/2 [==============================] - 0s 2ms/step - loss: 0.6013 - categorical_accuracy: 1.0000\n",
      "Epoch 172/200\n",
      "2/2 [==============================] - 0s 1ms/step - loss: 0.5981 - categorical_accuracy: 1.0000\n",
      "Epoch 173/200\n",
      "2/2 [==============================] - 0s 2ms/step - loss: 0.5950 - categorical_accuracy: 1.0000\n",
      "Epoch 174/200\n",
      "2/2 [==============================] - 0s 1ms/step - loss: 0.5919 - categorical_accuracy: 1.0000\n",
      "Epoch 175/200\n",
      "2/2 [==============================] - 0s 2ms/step - loss: 0.5887 - categorical_accuracy: 1.0000\n",
      "Epoch 176/200\n",
      "2/2 [==============================] - 0s 2ms/step - loss: 0.5858 - categorical_accuracy: 1.0000\n",
      "Epoch 177/200\n",
      "2/2 [==============================] - 0s 1ms/step - loss: 0.5826 - categorical_accuracy: 1.0000\n",
      "Epoch 178/200\n",
      "2/2 [==============================] - 0s 1ms/step - loss: 0.5795 - categorical_accuracy: 1.0000\n",
      "Epoch 179/200\n",
      "2/2 [==============================] - 0s 2ms/step - loss: 0.5764 - categorical_accuracy: 1.0000\n",
      "Epoch 180/200\n",
      "2/2 [==============================] - 0s 2ms/step - loss: 0.5733 - categorical_accuracy: 1.0000\n",
      "Epoch 181/200\n",
      "2/2 [==============================] - 0s 2ms/step - loss: 0.5703 - categorical_accuracy: 1.0000\n",
      "Epoch 182/200\n",
      "2/2 [==============================] - 0s 1ms/step - loss: 0.5672 - categorical_accuracy: 1.0000\n",
      "Epoch 183/200\n",
      "2/2 [==============================] - 0s 2ms/step - loss: 0.5642 - categorical_accuracy: 1.0000\n",
      "Epoch 184/200\n",
      "2/2 [==============================] - 0s 2ms/step - loss: 0.5611 - categorical_accuracy: 1.0000\n",
      "Epoch 185/200\n",
      "2/2 [==============================] - 0s 1ms/step - loss: 0.5581 - categorical_accuracy: 1.0000\n",
      "Epoch 186/200\n",
      "2/2 [==============================] - 0s 1ms/step - loss: 0.5550 - categorical_accuracy: 1.0000\n",
      "Epoch 187/200\n",
      "2/2 [==============================] - 0s 2ms/step - loss: 0.5521 - categorical_accuracy: 1.0000\n",
      "Epoch 188/200\n",
      "2/2 [==============================] - 0s 2ms/step - loss: 0.5489 - categorical_accuracy: 1.0000\n",
      "Epoch 189/200\n",
      "2/2 [==============================] - 0s 1ms/step - loss: 0.5459 - categorical_accuracy: 1.0000\n",
      "Epoch 190/200\n",
      "2/2 [==============================] - 0s 1ms/step - loss: 0.5429 - categorical_accuracy: 1.0000\n",
      "Epoch 191/200\n",
      "2/2 [==============================] - 0s 2ms/step - loss: 0.5399 - categorical_accuracy: 1.0000\n",
      "Epoch 192/200\n",
      "2/2 [==============================] - 0s 2ms/step - loss: 0.5368 - categorical_accuracy: 1.0000\n",
      "Epoch 193/200\n",
      "2/2 [==============================] - 0s 1ms/step - loss: 0.5338 - categorical_accuracy: 1.0000\n",
      "Epoch 194/200\n",
      "2/2 [==============================] - 0s 1ms/step - loss: 0.5309 - categorical_accuracy: 1.0000\n",
      "Epoch 195/200\n",
      "2/2 [==============================] - 0s 2ms/step - loss: 0.5279 - categorical_accuracy: 1.0000\n",
      "Epoch 196/200\n",
      "2/2 [==============================] - 0s 1ms/step - loss: 0.5249 - categorical_accuracy: 1.0000\n",
      "Epoch 197/200\n",
      "2/2 [==============================] - 0s 2ms/step - loss: 0.5219 - categorical_accuracy: 1.0000\n",
      "Epoch 198/200\n",
      "2/2 [==============================] - 0s 2ms/step - loss: 0.5189 - categorical_accuracy: 1.0000\n",
      "Epoch 199/200\n",
      "2/2 [==============================] - 0s 1ms/step - loss: 0.5159 - categorical_accuracy: 1.0000\n",
      "Epoch 200/200\n",
      "2/2 [==============================] - 0s 1ms/step - loss: 0.5129 - categorical_accuracy: 1.0000\n",
      "Model: \"sequential_2\"\n",
      "_________________________________________________________________\n",
      "Layer (type)                 Output Shape              Param #   \n",
      "=================================================================\n",
      "dense_4 (Dense)              (None, 5)                 15        \n",
      "_________________________________________________________________\n",
      "dense_5 (Dense)              (None, 5)                 30        \n",
      "_________________________________________________________________\n",
      "dense_6 (Dense)              (None, 3)                 18        \n",
      "=================================================================\n",
      "Total params: 63\n",
      "Trainable params: 63\n",
      "Non-trainable params: 0\n",
      "_________________________________________________________________\n"
     ]
    }
   ],
   "source": [
    "model = Sequential()\n",
    "model.add(Dense(5, activation='relu'))                      # Hidden layer\n",
    "model.add(Dense(actions.shape[0], activation='softmax'))    # Output layer\n",
    "\n",
    "model.compile(optimizer='Adam', loss='categorical_crossentropy', \n",
    "              metrics=['categorical_accuracy'])\n",
    "\n",
    "model.fit(X_train, y_train, epochs=200)\n",
    "\n",
    "model.summary()"
   ]
  },
  {
   "cell_type": "markdown",
   "id": "f835041a-b820-42df-8f6c-b925561b58e8",
   "metadata": {},
   "source": [
    "# Test Model\n",
    "<img src=\"confusion_matrix.jpg\"/>"
   ]
  },
  {
   "cell_type": "code",
   "execution_count": 44,
   "id": "74804eb0-3aaf-4d97-8724-c4d242f2367b",
   "metadata": {},
   "outputs": [
    {
     "data": {
      "text/plain": [
       "<sklearn.metrics._plot.confusion_matrix.ConfusionMatrixDisplay at 0x7f4a929480a0>"
      ]
     },
     "execution_count": 44,
     "metadata": {},
     "output_type": "execute_result"
    },
    {
     "data": {
      "image/png": "[encoded data removed]",
      "text/plain": [
       "<Figure size 432x288 with 2 Axes>"
      ]
     },
     "metadata": {
      "needs_background": "light"
     },
     "output_type": "display_data"
    }
   ],
   "source": [
    "from sklearn.metrics import ConfusionMatrixDisplay\n",
    "\n",
    "# ======================== Test Model ========================================\n",
    "y_prob = model.predict(X_test)\n",
    "# =============================================================================\n",
    "\n",
    "\n",
    "ytrue = np.argmax(y_test, axis=1).tolist() # target class\n",
    "yhat = np.argmax(y_prob, axis=1).tolist()  # output class\n",
    "\n",
    "cfm = multilabel_confusion_matrix(ytrue, yhat)\n",
    "\n",
    "\n",
    "ConfusionMatrixDisplay.from_predictions(ytrue, yhat)"
   ]
  },
  {
   "cell_type": "code",
   "execution_count": 31,
   "id": "92da8494-9d3c-4acc-96ad-870c404db772",
   "metadata": {},
   "outputs": [
    {
     "data": {
      "text/plain": [
       "1.0"
      ]
     },
     "execution_count": 31,
     "metadata": {},
     "output_type": "execute_result"
    }
   ],
   "source": [
    "accuracy_score(ytrue, yhat)"
   ]
  },
  {
   "cell_type": "markdown",
   "id": "d30571a5-d5dd-4140-a401-813d41b70863",
   "metadata": {},
   "source": [
    "# Save Model"
   ]
  },
  {
   "cell_type": "code",
   "execution_count": 35,
   "id": "1c679372-bf44-4813-aee1-c2b4b750abbd",
   "metadata": {},
   "outputs": [
    {
     "name": "stdout",
     "output_type": "stream",
     "text": [
      "INFO:tensorflow:Assets written to: action/assets\n"
     ]
    }
   ],
   "source": [
    "model.save('action') "
   ]
  },
  {
   "cell_type": "markdown",
   "id": "57ab7c9a-4c3f-4bee-87ba-452105c9353b",
   "metadata": {},
   "source": [
    "# Load Model"
   ]
  },
  {
   "cell_type": "code",
   "execution_count": 36,
   "id": "15161f57-1c3a-44bc-acdc-0f0f37395b48",
   "metadata": {},
   "outputs": [],
   "source": [
    "from tensorflow.keras.models import load_model\n",
    "\n",
    "model = load_model('action')"
   ]
  },
  {
   "cell_type": "markdown",
   "id": "3b2ac17e-fb67-414c-a655-3122c9de62cb",
   "metadata": {},
   "source": [
    "# Use Model in Realtime"
   ]
  },
  {
   "cell_type": "code",
   "execution_count": 45,
   "id": "e081d9f7-d879-43bc-9f2d-58e15a21b1b7",
   "metadata": {
    "tags": []
   },
   "outputs": [
    {
     "name": "stdout",
     "output_type": "stream",
     "text": [
      "sunny\n"
     ]
    }
   ],
   "source": [
    "# Represents light intensity values\n",
    "pump_actions = np.array([0.5, 0.0, 1.0])\n",
    "\n",
    "test_data = pd.DataFrame.from_dict([dashboard.latest_smartfarm_data]).drop('timeStamp', axis=1)\n",
    "\n",
    "y = model.predict(test_data)\n",
    "\n",
    "print(conditions[np.argmax(y)])\n",
    "\n",
    "dashboard.set_light_intensity(pump_actions[np.argmax(y)])\n"
   ]
  },
  {
   "cell_type": "code",
   "execution_count": 25,
   "id": "860375d2-3cbf-442a-9142-f2da94cc63db",
   "metadata": {},
   "outputs": [
    {
     "data": {
      "text/plain": [
       "{'timeStamp': 1646108642672, 'light': 0.461914063, 'moisture': 0.002929688}"
      ]
     },
     "execution_count": 25,
     "metadata": {},
     "output_type": "execute_result"
    }
   ],
   "source": []
  }
 ],
 "metadata": {
  "kernelspec": {
   "display_name": "Python 3 (ipykernel)",
   "language": "python",
   "name": "python3"
  },
  "language_info": {
   "codemirror_mode": {
    "name": "ipython",
    "version": 3
   },
   "file_extension": ".py",
   "mimetype": "text/x-python",
   "name": "python",
   "nbconvert_exporter": "python",
   "pygments_lexer": "ipython3",
   "version": "3.9.7"
  }
 },
 "nbformat": 4,
 "nbformat_minor": 5
}
