{
 "cells": [
  {
   "cell_type": "markdown",
   "id": "996c35d7-ab8d-46cd-928f-722c0ff568bb",
   "metadata": {},
   "source": [
    "# Open Dashboard\n",
    "- Run the cell below\n",
    "- Type E-Mail and Password\n",
    "- Click \"LOG IN\" button\n",
    "- Select Device"
   ]
  },
  {
   "cell_type": "code",
   "execution_count": 1,
   "id": "247296a2-a904-4e06-80f6-08faa8f8f270",
   "metadata": {
    "tags": []
   },
   "outputs": [
    {
     "data": {
      "application/vnd.jupyter.widget-view+json": {
       "model_id": "92697878f9964bf69a1196e900707ba9",
       "version_major": 2,
       "version_minor": 0
      },
      "text/plain": [
       "HWDashBoardWidget(devices=[('None', 'none')])"
      ]
     },
     "metadata": {},
     "output_type": "display_data"
    }
   ],
   "source": [
    "import aithaigen_hwdashboard\n",
    "dashboard = aithaigen_hwdashboard.HWDashBoardWidget()\n",
    "dashboard"
   ]
  },
  {
   "cell_type": "markdown",
   "id": "e328092d-0adf-43ce-94fd-252fb225a77d",
   "metadata": {},
   "source": [
    "# Import Libraries"
   ]
  },
  {
   "cell_type": "code",
   "execution_count": 2,
   "id": "0292c64e-9ca6-480f-943e-9201596bd95b",
   "metadata": {},
   "outputs": [],
   "source": [
    "import numpy as np\n",
    "import pandas as pd\n",
    "from sklearn.model_selection import train_test_split\n",
    "from sklearn.metrics import multilabel_confusion_matrix, accuracy_score        # Accuracy metrics\n",
    "\n",
    "\n",
    "from tensorflow.keras.models import Sequential\n",
    "from tensorflow.keras.layers import Dense\n",
    "from tensorflow.keras.utils import to_categorical"
   ]
  },
  {
   "cell_type": "markdown",
   "id": "e26a0115-02e6-47aa-800b-ea455421b317",
   "metadata": {},
   "source": [
    "# Prepare Input Data"
   ]
  },
  {
   "cell_type": "code",
   "execution_count": null,
   "id": "fdbb24ee-45a5-4df9-a9ff-033e58b1a4d5",
   "metadata": {},
   "outputs": [],
   "source": [
    "## For example, if you name the data as collection-1 to 4\n",
    "# data1 = pd.DataFrame.from_dict(dashboard.data['collection-1'])\n",
    "# data2 = pd.DataFrame.from_dict(dashboard.data['collection-2'])\n",
    "# data3 = pd.DataFrame.from_dict(dashboard.data['collection-3'])\n",
    "# data4 = pd.DataFrame.from_dict(dashboard.data['collection-4'])\n",
    "# data = pd.concat([data1, data2, data3, data4]).drop('timeStamp', axis=1)"
   ]
  },
  {
   "cell_type": "code",
   "execution_count": null,
   "id": "3705a242-8dc4-42d1-a88f-39ff7aefafb9",
   "metadata": {
    "tags": []
   },
   "outputs": [],
   "source": [
    "X = data.drop('class', axis=1)\n",
    "\n",
    "y_num, actions = pd.factorize(data['class'], sort=True)\n",
    "\n",
    "y = to_categorical(y_num).astype(int)\n",
    "\n",
    "X_train, X_test, y_train, y_test = train_test_split(X, y, test_size=0.3, random_state=1234)"
   ]
  },
  {
   "cell_type": "markdown",
   "id": "b72159b2-4df5-4607-ad22-6b8e94079f24",
   "metadata": {},
   "source": [
    "# Train Model\n",
    "<img src=\"NN.jpg\"/>"
   ]
  },
  {
   "cell_type": "code",
   "execution_count": null,
   "id": "36be1b6d-e97d-41c0-8302-73c6cca4ab22",
   "metadata": {},
   "outputs": [],
   "source": [
    "model = Sequential()\n",
    "model.add(Dense(5, activation='relu'))                      # Hidden layer\n",
    "model.add(Dense(actions.shape[0], activation='softmax'))    # Output layer\n",
    "\n",
    "model.compile(optimizer='Adam', loss='categorical_crossentropy', \n",
    "              metrics=['categorical_accuracy'])\n",
    "\n",
    "model.fit(X_train, y_train, epochs=200)\n",
    "\n",
    "model.summary()"
   ]
  },
  {
   "cell_type": "markdown",
   "id": "f835041a-b820-42df-8f6c-b925561b58e8",
   "metadata": {},
   "source": [
    "# Test Model\n",
    "<img src=\"confusion_matrix.jpg\"/>"
   ]
  },
  {
   "cell_type": "code",
   "execution_count": null,
   "id": "74804eb0-3aaf-4d97-8724-c4d242f2367b",
   "metadata": {},
   "outputs": [],
   "source": [
    "# ======================== Test Model ========================================\n",
    "y_prob = model.predict(X_test)\n",
    "# =============================================================================\n",
    "\n",
    "\n",
    "ytrue = np.argmax(y_test, axis=1).tolist()\n",
    "yhat = np.argmax(y_prob, axis=1).tolist()\n",
    "\n",
    "print(multilabel_confusion_matrix(ytrue, yhat))\n",
    "print(accuracy_score(ytrue, yhat))"
   ]
  },
  {
   "cell_type": "markdown",
   "id": "d30571a5-d5dd-4140-a401-813d41b70863",
   "metadata": {},
   "source": [
    "# Save Model"
   ]
  },
  {
   "cell_type": "code",
   "execution_count": null,
   "id": "1c679372-bf44-4813-aee1-c2b4b750abbd",
   "metadata": {},
   "outputs": [],
   "source": [
    "model.save('action') "
   ]
  },
  {
   "cell_type": "markdown",
   "id": "57ab7c9a-4c3f-4bee-87ba-452105c9353b",
   "metadata": {},
   "source": [
    "# Load Model"
   ]
  },
  {
   "cell_type": "code",
   "execution_count": null,
   "id": "15161f57-1c3a-44bc-acdc-0f0f37395b48",
   "metadata": {},
   "outputs": [],
   "source": [
    "from tensorflow.keras.models import load_model\n",
    "\n",
    "model = load_model('action')"
   ]
  },
  {
   "cell_type": "markdown",
   "id": "3b2ac17e-fb67-414c-a655-3122c9de62cb",
   "metadata": {},
   "source": [
    "# Use Model in Realtime"
   ]
  },
  {
   "cell_type": "code",
   "execution_count": null,
   "id": "e081d9f7-d879-43bc-9f2d-58e15a21b1b7",
   "metadata": {},
   "outputs": [],
   "source": [
    "# Represents light intensity values\n",
    "pump_actions = np.array([0.0, 0.5, 1.0])\n",
    "\n",
    "test_data = pd.DataFrame.from_dict([dashboard.latest_smartfarm_data]).drop('timeStamp', axis=1)\n",
    "\n",
    "y = model.predict(test_data)\n",
    "\n",
    "print(actions[np.argmax(y)])\n",
    "\n",
    "dashboard.set_light_intensity(pump_actions[np.argmax(y)])\n"
   ]
  }
 ],
 "metadata": {
  "kernelspec": {
   "display_name": "Python 3 (ipykernel)",
   "language": "python",
   "name": "python3"
  },
  "language_info": {
   "codemirror_mode": {
    "name": "ipython",
    "version": 3
   },
   "file_extension": ".py",
   "mimetype": "text/x-python",
   "name": "python",
   "nbconvert_exporter": "python",
   "pygments_lexer": "ipython3",
   "version": "3.9.7"
  }
 },
 "nbformat": 4,
 "nbformat_minor": 5
}
