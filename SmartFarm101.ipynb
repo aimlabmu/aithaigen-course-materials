{
  "metadata": {
    "kernelspec": {
      "name": "python",
      "display_name": "Pyolite",
      "language": "python"
    },
    "language_info": {
      "codemirror_mode": {
        "name": "python",
        "version": 3
      },
      "file_extension": ".py",
      "mimetype": "text/x-python",
      "name": "python",
      "nbconvert_exporter": "python",
      "pygments_lexer": "ipython3",
      "version": "3.8"
    }
  },
  "nbformat_minor": 5,
  "nbformat": 4,
  "cells": [
    {
      "cell_type": "markdown",
      "source": "import piplite\n\nawait piplite.install('ipywidgets')\nawait piplite.install('aithaigen-hwdashboard')# Open Dashboard\n- Run the cell below\n- Type E-Mail and Password\n- Click \"LOG IN\" button\n- Select Device",
      "metadata": {},
      "id": "592b82c6-c4e3-4463-b371-c3ff07b84a09"
    },
    {
      "cell_type": "code",
      "source": "import piplite\n\nawait piplite.install('ipywidgets')\nawait piplite.install('aithaigen-hwdashboard')",
      "metadata": {
        "trusted": true
      },
      "execution_count": null,
      "outputs": [],
      "id": "57f7cf4d-f8e0-4ad0-88bf-9c388d4dead3"
    },
    {
      "cell_type": "markdown",
      "source": "# AIThaiGen SmartFarm Data Collection\n<img src=\"https://cdnaithaigen.sgp1.digitaloceanspaces.com/aithaigen_hw_course/AIThaiGenHW.png\" />",
      "metadata": {},
      "id": "5e5fb3a0-80c5-4003-8063-5573ecaec388"
    },
    {
      "cell_type": "code",
      "source": "# Student Email: studentn@aidevs.org\n# Student Password: helloai",
      "metadata": {
        "trusted": true
      },
      "execution_count": null,
      "outputs": [],
      "id": "96784e2e-121d-402a-9c20-d4645b494172"
    },
    {
      "cell_type": "code",
      "source": "from aithaigen_hwdashboard import HWDashBoardWidget",
      "metadata": {
        "trusted": true
      },
      "execution_count": null,
      "outputs": [],
      "id": "3bb019a5-482c-4965-9e9a-5dda125f9d78"
    },
    {
      "cell_type": "code",
      "source": "dashboard = HWDashBoardWidget()\ndashboard",
      "metadata": {
        "trusted": true
      },
      "execution_count": null,
      "outputs": [],
      "id": "4775d6a2-ea88-4d58-a5ad-15084ef28e51"
    },
    {
      "cell_type": "markdown",
      "source": "# Save data to csv file",
      "metadata": {
        "tags": []
      },
      "id": "e2334157-e4f7-407a-8726-6a42dd6d257f"
    },
    {
      "cell_type": "code",
      "source": "import pandas as pd\n\n## For example, if you name the data as collection-1 to 4\ndata1 = pd.DataFrame.from_dict(dashboard.data['collection-1'])\ndata2 = pd.DataFrame.from_dict(dashboard.data['collection-2'])\ndata3 = pd.DataFrame.from_dict(dashboard.data['collection-3'])\ndata4 = pd.DataFrame.from_dict(dashboard.data['collection-4'])\ndata = pd.concat([data1, data2, data3, data4])\n\npd.DataFrame.from_dict(data).to_csv('farm.csv')",
      "metadata": {
        "trusted": true
      },
      "execution_count": null,
      "outputs": [],
      "id": "7c6259ec-8385-4f23-8362-5ad46c38a2e5"
    },
    {
      "cell_type": "code",
      "source": "data",
      "metadata": {
        "trusted": true
      },
      "execution_count": null,
      "outputs": [],
      "id": "37b0c56d-e0a5-4ec6-a540-baf325d9fce7"
    },
    {
      "cell_type": "markdown",
      "source": "# Import Libraries",
      "metadata": {},
      "id": "e328092d-0adf-43ce-94fd-252fb225a77d"
    },
    {
      "cell_type": "code",
      "source": "import numpy as np\nimport pandas as pd\nfrom sklearn.model_selection import train_test_split\nfrom sklearn.neural_network import MLPClassifier\nfrom sklearn.metrics import multilabel_confusion_matrix, accuracy_score\nfrom sklearn.preprocessing import OneHotEncoder",
      "metadata": {
        "trusted": true
      },
      "execution_count": null,
      "outputs": [],
      "id": "0292c64e-9ca6-480f-943e-9201596bd95b"
    },
    {
      "cell_type": "markdown",
      "source": "# Prepare Input Data",
      "metadata": {
        "tags": []
      },
      "id": "e26a0115-02e6-47aa-800b-ea455421b317"
    },
    {
      "cell_type": "code",
      "source": "data = pd.read_csv(\"farm.csv\").drop([\"timeStamp\", \"Unnamed: 0\"], axis=1)  # read csv file",
      "metadata": {
        "trusted": true
      },
      "execution_count": null,
      "outputs": [],
      "id": "c0ac80e9-2c95-41d3-8493-65f2d5dfcd6a"
    },
    {
      "cell_type": "code",
      "source": "# Split train test\nX = data.drop('class', axis=1) # collect only input data\ny_num, conditions = pd.factorize(data['class'], sort=True) # Change classes to numerical data\n\nX_train, X_test, y_train, y_test = train_test_split(X, y_num, test_size=0.3, random_state=1234) # Split data into train and test",
      "metadata": {
        "trusted": true
      },
      "execution_count": null,
      "outputs": [],
      "id": "0b91a9a0-0983-424d-960f-73303ef4ae64"
    },
    {
      "cell_type": "markdown",
      "source": "# Train Model\n<img src=\"https://cdnaithaigen.sgp1.digitaloceanspaces.com/aithaigen_hw_course/NN2.jpg\"/>",
      "metadata": {},
      "id": "b72159b2-4df5-4607-ad22-6b8e94079f24"
    },
    {
      "cell_type": "code",
      "source": "model = MLPClassifier(solver='lbfgs', alpha=1e-5,\n                     hidden_layer_sizes=(5, ), random_state=1)\nmodel.fit(X_train, y_train)",
      "metadata": {
        "trusted": true
      },
      "execution_count": 42,
      "outputs": [
        {
          "execution_count": 42,
          "output_type": "execute_result",
          "data": {
            "text/plain": "MLPClassifier(alpha=1e-05, hidden_layer_sizes=(5,), random_state=1,\n              solver='lbfgs')"
          },
          "metadata": {}
        }
      ],
      "id": "40490ea0-d50c-46d6-850b-9a51d1f3db77"
    },
    {
      "cell_type": "code",
      "source": "model.predict(X_test)",
      "metadata": {
        "trusted": true
      },
      "execution_count": 43,
      "outputs": [
        {
          "execution_count": 43,
          "output_type": "execute_result",
          "data": {
            "text/plain": "array([0, 0, 1, 0, 1, 1, 1, 1, 2, 1, 2, 1, 0, 2, 0, 0, 1, 0, 2, 0, 1, 2,\n       1, 0, 1, 0, 1], dtype=int32)"
          },
          "metadata": {}
        }
      ],
      "id": "27e7a6a0-10c0-4afd-83d9-116d80d8fd2d"
    },
    {
      "cell_type": "markdown",
      "source": "# Test Model\n<img src=\"https://cdnaithaigen.sgp1.digitaloceanspaces.com/aithaigen_hw_course/confusion_matrix.jpg\"/>",
      "metadata": {},
      "id": "f835041a-b820-42df-8f6c-b925561b58e8"
    },
    {
      "cell_type": "code",
      "source": "import matplotlib.pyplot as plt\nfrom sklearn.metrics import ConfusionMatrixDisplay\n\n# ======================== Test Model ========================================\ny_prob = model.predict(X_test)\n# =============================================================================\n\nmatrix = multilabel_confusion_matrix(y_test, y_prob)\n\ndisplay = ConfusionMatrixDisplay.from_predictions(y_test, y_prob)\ndisplay.plot()\nplt.show()",
      "metadata": {
        "trusted": true
      },
      "execution_count": 44,
      "outputs": [
        {
          "output_type": "display_data",
          "data": {
            "text/plain": "<pyolite.display.Image at 0x6b4eb60>",
            "image/png": "[encoded data removed]"
          },
          "metadata": {}
        }
      ],
      "id": "205bd6a2-6776-4250-ad36-20a5c2cd8061"
    },
    {
      "cell_type": "code",
      "source": "accuracy_score(y_test, y_prob)",
      "metadata": {
        "trusted": true
      },
      "execution_count": 45,
      "outputs": [
        {
          "execution_count": 45,
          "output_type": "execute_result",
          "data": {
            "text/plain": "1.0"
          },
          "metadata": {}
        }
      ],
      "id": "92da8494-9d3c-4acc-96ad-870c404db772"
    },
    {
      "cell_type": "markdown",
      "source": "# Save Model",
      "metadata": {},
      "id": "d30571a5-d5dd-4140-a401-813d41b70863"
    },
    {
      "cell_type": "code",
      "source": "import pickle",
      "metadata": {
        "trusted": true
      },
      "execution_count": 46,
      "outputs": [],
      "id": "caa175e5-c671-45b5-9f3c-e57a89c6549c"
    },
    {
      "cell_type": "code",
      "source": "filename = 'mlp.pkl'\npickle.dump(model, open(filename, 'wb'))",
      "metadata": {
        "trusted": true
      },
      "execution_count": 47,
      "outputs": [],
      "id": "1c679372-bf44-4813-aee1-c2b4b750abbd"
    },
    {
      "cell_type": "markdown",
      "source": "# Load Model",
      "metadata": {},
      "id": "57ab7c9a-4c3f-4bee-87ba-452105c9353b"
    },
    {
      "cell_type": "code",
      "source": "loaded_model = pickle.load(open(filename, 'rb'))",
      "metadata": {
        "trusted": true
      },
      "execution_count": 48,
      "outputs": [],
      "id": "15161f57-1c3a-44bc-acdc-0f0f37395b48"
    },
    {
      "cell_type": "markdown",
      "source": "# Represents light intensity values",
      "metadata": {},
      "id": "3b2ac17e-fb67-414c-a655-3122c9de62cb"
    },
    {
      "cell_type": "code",
      "source": "# Sensor's data\ntest_data = pd.DataFrame.from_dict([dashboard.latest_smartfarm_data]).drop('timeStamp', axis=1)\nprint('Sensor')\nprint('moisture   :', test_data.iloc[0]['moisture']);\nprint('light      :', test_data.iloc[0]['light']);\nprint()\n\n# AI Prediction\ny = model.predict(test_data)\nweather = conditions[y].item()\nprint('Weather')\nprint('prediction :', weather)\nprint()\n\n# Pump actions\nactions = {\n    'sunny': 1,\n    'cloudy': 0.5,\n    'rainy': 0\n}\naction = actions[weather]\ndashboard.set_light_intensity(actions[weather])# Use Model in Realtime\nprint('Water pump')\nprint('action     :', action)",
      "metadata": {
        "trusted": true
      },
      "execution_count": 49,
      "outputs": [
        {
          "name": "stdout",
          "text": "Sensor\nmoisture   : 0.018\nlight      : 1.0\n\nWeather\nprediction : rainy\n\nWater pump\naction     : 0\n",
          "output_type": "stream"
        }
      ],
      "id": "3ed0cdca-3018-4dae-b78f-2e17952de604"
    },
    {
      "cell_type": "code",
      "source": "",
      "metadata": {},
      "execution_count": null,
      "outputs": [],
      "id": "30e48860-d8f0-4c12-93e9-edcc6981bf3a"
    }
  ]
}