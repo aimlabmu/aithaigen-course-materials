{
 "cells": [
  {
   "cell_type": "markdown",
   "id": "996c35d7-ab8d-46cd-928f-722c0ff568bb",
   "metadata": {
    "tags": []
   },
   "source": [
    "# Run This Cell to get the latest course materials (IMPORTANT-BACKUP YOUR CURRENT FILES FIRST)"
   ]
  },
  {
   "cell_type": "code",
   "execution_count": null,
   "id": "dd48e94d-a88a-4f79-b4b8-e3b62352ea0c",
   "metadata": {},
   "outputs": [],
   "source": [
    "!git pull"
   ]
  },
  {
   "cell_type": "markdown",
   "id": "4c87f219-7570-4598-be6d-2d436dc4fa51",
   "metadata": {},
   "source": [
    "# AIThaiGen SmartFarm Data Collection\n",
    "<img src=\"AIThaiGenHW.png\" />"
   ]
  },
  {
   "cell_type": "markdown",
   "id": "592b82c6-c4e3-4463-b371-c3ff07b84a09",
   "metadata": {},
   "source": [
    "# Open Dashboard\n",
    "- Run the cell below\n",
    "- Type E-Mail and Password\n",
    "- Click \"LOG IN\" button\n",
    "- Select Device"
   ]
  },
  {
   "cell_type": "code",
   "execution_count": null,
   "id": "247296a2-a904-4e06-80f6-08faa8f8f270",
   "metadata": {
    "tags": []
   },
   "outputs": [],
   "source": [
    "import aithaigen_hwdashboard\n",
    "dashboard = aithaigen_hwdashboard.HWDashBoardWidget()\n",
    "dashboard"
   ]
  },
  {
   "cell_type": "markdown",
   "id": "e2334157-e4f7-407a-8726-6a42dd6d257f",
   "metadata": {
    "tags": []
   },
   "source": [
    "# Save data to csv file"
   ]
  },
  {
   "cell_type": "code",
   "execution_count": null,
   "id": "7c6259ec-8385-4f23-8362-5ad46c38a2e5",
   "metadata": {},
   "outputs": [],
   "source": [
    "import pandas as pd\n",
    "\n",
    "## For example, if you name the data as collection-1 to 4\n",
    "data1 = pd.DataFrame.from_dict(dashboard.data['collection-1'])\n",
    "data2 = pd.DataFrame.from_dict(dashboard.data['collection-2'])\n",
    "data3 = pd.DataFrame.from_dict(dashboard.data['collection-3'])\n",
    "data4 = pd.DataFrame.from_dict(dashboard.data['collection-4'])\n",
    "data = pd.concat([data1, data2, data3, data4])\n",
    "\n",
    "pd.DataFrame.from_dict(data).to_csv('farm.csv')"
   ]
  },
  {
   "cell_type": "code",
   "execution_count": null,
   "id": "37b0c56d-e0a5-4ec6-a540-baf325d9fce7",
   "metadata": {},
   "outputs": [],
   "source": [
    "data"
   ]
  },
  {
   "cell_type": "markdown",
   "id": "e328092d-0adf-43ce-94fd-252fb225a77d",
   "metadata": {},
   "source": [
    "# Import Libraries"
   ]
  },
  {
   "cell_type": "code",
   "execution_count": null,
   "id": "0292c64e-9ca6-480f-943e-9201596bd95b",
   "metadata": {},
   "outputs": [],
   "source": [
    "import numpy as np\n",
    "import pandas as pd\n",
    "from sklearn.model_selection import train_test_split\n",
    "from sklearn.metrics import multilabel_confusion_matrix, accuracy_score        # Accuracy metrics\n",
    "\n",
    "\n",
    "from tensorflow.keras.models import Sequential\n",
    "from tensorflow.keras.layers import Dense\n",
    "from tensorflow.keras.utils import to_categorical"
   ]
  },
  {
   "cell_type": "markdown",
   "id": "e26a0115-02e6-47aa-800b-ea455421b317",
   "metadata": {},
   "source": [
    "# Prepare Input Data"
   ]
  },
  {
   "cell_type": "code",
   "execution_count": null,
   "id": "3705a242-8dc4-42d1-a88f-39ff7aefafb9",
   "metadata": {
    "tags": []
   },
   "outputs": [],
   "source": [
    "data = pd.read_csv(\"farm.csv\").drop([\"timeStamp\", \"Unnamed: 0\"], axis=1)  # read csv file\n",
    "\n",
    "X = data.drop('class', axis=1) # collect only input data\n",
    "\n",
    "y_num, conditions = pd.factorize(data['class'], sort=True) # Change classes to numerical data\n",
    "\n",
    "y = to_categorical(y_num).astype(int) # one of N representation\n",
    "\n",
    "X_train, X_test, y_train, y_test = train_test_split(X, y, test_size=0.3, random_state=1234) # Split data into train and test"
   ]
  },
  {
   "cell_type": "code",
   "execution_count": null,
   "id": "abd640f8-2d49-4fe4-a700-840a478fa8a7",
   "metadata": {
    "tags": []
   },
   "outputs": [],
   "source": [
    "X_train"
   ]
  },
  {
   "cell_type": "markdown",
   "id": "b72159b2-4df5-4607-ad22-6b8e94079f24",
   "metadata": {},
   "source": [
    "# Train Model\n",
    "<img src=\"NN2.jpg\"/>"
   ]
  },
  {
   "cell_type": "code",
   "execution_count": null,
   "id": "36be1b6d-e97d-41c0-8302-73c6cca4ab22",
   "metadata": {
    "tags": []
   },
   "outputs": [],
   "source": [
    "model = Sequential()\n",
    "model.add(Dense(5, activation='relu'))                      # Hidden layer\n",
    "model.add(Dense(actions.shape[0], activation='softmax'))    # Output layer\n",
    "\n",
    "model.compile(optimizer='Adam', loss='categorical_crossentropy', \n",
    "              metrics=['categorical_accuracy'])\n",
    "\n",
    "model.fit(X_train, y_train, epochs=200)\n",
    "\n",
    "model.summary()"
   ]
  },
  {
   "cell_type": "markdown",
   "id": "f835041a-b820-42df-8f6c-b925561b58e8",
   "metadata": {},
   "source": [
    "# Test Model\n",
    "<img src=\"confusion_matrix.jpg\"/>"
   ]
  },
  {
   "cell_type": "code",
   "execution_count": null,
   "id": "74804eb0-3aaf-4d97-8724-c4d242f2367b",
   "metadata": {},
   "outputs": [],
   "source": [
    "from sklearn.metrics import ConfusionMatrixDisplay\n",
    "\n",
    "# ======================== Test Model ========================================\n",
    "y_prob = model.predict(X_test)\n",
    "# =============================================================================\n",
    "\n",
    "\n",
    "ytrue = np.argmax(y_test, axis=1).tolist() # target class\n",
    "yhat = np.argmax(y_prob, axis=1).tolist()  # output class\n",
    "\n",
    "cfm = multilabel_confusion_matrix(ytrue, yhat)\n",
    "\n",
    "\n",
    "ConfusionMatrixDisplay.from_predictions(ytrue, yhat)"
   ]
  },
  {
   "cell_type": "code",
   "execution_count": null,
   "id": "92da8494-9d3c-4acc-96ad-870c404db772",
   "metadata": {},
   "outputs": [],
   "source": [
    "accuracy_score(ytrue, yhat)"
   ]
  },
  {
   "cell_type": "markdown",
   "id": "d30571a5-d5dd-4140-a401-813d41b70863",
   "metadata": {},
   "source": [
    "# Save Model"
   ]
  },
  {
   "cell_type": "code",
   "execution_count": null,
   "id": "1c679372-bf44-4813-aee1-c2b4b750abbd",
   "metadata": {},
   "outputs": [],
   "source": [
    "model.save('action') "
   ]
  },
  {
   "cell_type": "markdown",
   "id": "57ab7c9a-4c3f-4bee-87ba-452105c9353b",
   "metadata": {},
   "source": [
    "# Load Model"
   ]
  },
  {
   "cell_type": "code",
   "execution_count": null,
   "id": "15161f57-1c3a-44bc-acdc-0f0f37395b48",
   "metadata": {},
   "outputs": [],
   "source": [
    "from tensorflow.keras.models import load_model\n",
    "\n",
    "model = load_model('action')"
   ]
  },
  {
   "cell_type": "markdown",
   "id": "3b2ac17e-fb67-414c-a655-3122c9de62cb",
   "metadata": {},
   "source": [
    "# Use Model in Realtime"
   ]
  },
  {
   "cell_type": "code",
   "execution_count": null,
   "id": "e081d9f7-d879-43bc-9f2d-58e15a21b1b7",
   "metadata": {
    "tags": []
   },
   "outputs": [],
   "source": [
    "# Represents light intensity values\n",
    "pump_actions = np.array([0.5, 0.0, 1.0])\n",
    "\n",
    "test_data = pd.DataFrame.from_dict([dashboard.latest_smartfarm_data]).drop('timeStamp', axis=1)\n",
    "\n",
    "y = model.predict(test_data)\n",
    "\n",
    "print(conditions[np.argmax(y)])\n",
    "\n",
    "dashboard.set_light_intensity(actions[np.argmax(y)])"
   ]
  },
  {
   "cell_type": "code",
   "execution_count": null,
   "id": "860375d2-3cbf-442a-9142-f2da94cc63db",
   "metadata": {},
   "outputs": [],
   "source": []
  }
 ],
 "metadata": {
  "kernelspec": {
   "display_name": "Python 3 (ipykernel)",
   "language": "python",
   "name": "python3"
  },
  "language_info": {
   "codemirror_mode": {
    "name": "ipython",
    "version": 3
   },
   "file_extension": ".py",
   "mimetype": "text/x-python",
   "name": "python",
   "nbconvert_exporter": "python",
   "pygments_lexer": "ipython3",
   "version": "3.9.7"
  }
 },
 "nbformat": 4,
 "nbformat_minor": 5
}
